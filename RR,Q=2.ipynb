{
  "cells": [
    {
      "cell_type": "markdown",
      "metadata": {
        "id": "view-in-github",
        "colab_type": "text"
      },
      "source": [
        "<a href=\"https://colab.research.google.com/github/jsb58p/CS-441---Programming-assignment-1/blob/main/RR%2CQ%3D2.ipynb\" target=\"_parent\"><img src=\"https://colab.research.google.com/assets/colab-badge.svg\" alt=\"Open In Colab\"/></a>"
      ]
    },
    {
      "cell_type": "code",
      "execution_count": 420,
      "metadata": {
        "id": "5vRhTAY2ppLe"
      },
      "outputs": [],
      "source": [
        "# Shortest Remaining Time (SRT) algorithm"
      ]
    },
    {
      "cell_type": "code",
      "execution_count": 421,
      "metadata": {
        "id": "6HsL2b3aptFD"
      },
      "outputs": [],
      "source": [
        "# Process class to represent a single process\n",
        "class Process:\n",
        "  def __init__(self, pid, arrival_time, burst_time, priority):\n",
        "    self.pid = pid # unique process id\n",
        "    self.arrival_time = arrival_time # time at which the process arrives\n",
        "    self.burst_time = burst_time # total cpu time required by the process\n",
        "    self.priority = priority # priority of the process\n",
        "    self.completion_time = 0\n",
        "    self.turnaround_time = 0\n",
        "    self.waiting_time = 0\n",
        "    self.remaining_time = burst_time"
      ]
    },
    {
      "cell_type": "code",
      "execution_count": 422,
      "metadata": {
        "id": "XBH7igyupuaZ"
      },
      "outputs": [],
      "source": [
        "# Implement the SRT function\n",
        "def shortest_remaining_time(processes_data):\n",
        "\n",
        "  # Convert the input data into Process objects\n",
        "  # Sort them by arrival time\n",
        "  processes = [Process(*p) for p in processes_data]\n",
        "  processes.sort(key=lambda x: x.arrival_time)\n",
        "\n",
        "  # Initialize scheduling variables\n",
        "  current_time = 0 # Track current time in simulation\n",
        "  completed_processes = [] # Store processes that have finished running\n",
        "  ready_queue = [] # Store processes that have arrived but not completed\n",
        "  gantt_chart = [] # Store the execution timeline\n",
        "  ready_index = 0\n",
        "  Q = 2\n",
        "\n",
        "  # check and add any newly arrived process to the ready queue\n",
        "  def update_ready_queue():\n",
        "    for process in processes:\n",
        "      if(process.arrival_time <= current_time and\n",
        "         process not in ready_queue and\n",
        "         process not in completed_processes):\n",
        "        ready_queue.append(process)\n",
        "\n",
        "  # Find out when the next process will arrive\n",
        "  def get_next_arrival_time():\n",
        "    # get all processes that are in the ready queue\n",
        "    # who's arrival time is in the future\n",
        "    future_arrivals = [p.arrival_time for p in processes\n",
        "                       if p.arrival_time > current_time and\n",
        "                       p not in completed_processes]\n",
        "\n",
        "    # return the earliest arrival time, or infinity if no more arrivals\n",
        "    return min(future_arrivals) if future_arrivals else float('inf')\n",
        "\n",
        "\n",
        "  # Main scheduling loop - continue until all processes are completed\n",
        "  while len(completed_processes) < len(processes):\n",
        "\n",
        "    # Step 1: Update the ready queue with any newly arrived process\n",
        "    update_ready_queue()\n",
        "\n",
        "    # Step 2: Handle case when no processes are ready to execute\n",
        "    if not ready_queue:\n",
        "      # Find the next process arrival time\n",
        "      next_arrival = get_next_arrival_time()\n",
        "      if current_time < next_arrival:\n",
        "        # System will be idle\n",
        "        gantt_chart.append(['IDLE'])\n",
        "        current_time = next_arrival\n",
        "      continue\n",
        "\n",
        "    # Step 3: Select the process with the shortest remaining time\n",
        "    # If tie, we will use arrival time as the arbitration rule\n",
        "    if len(ready_queue) == 1:\n",
        "      ready_index = 0\n",
        "    current_process = ready_queue[ready_index]\n",
        "    if current_process.remaining_time > Q:\n",
        "      ready_index = (ready_index + 1) % len(ready_queue)\n",
        "\n",
        "\n",
        "\n",
        "\n",
        "    # Step 4: Calculate the time slice\n",
        "    next_arrival = get_next_arrival_time()\n",
        "    time_slice = min(\n",
        "        current_process.remaining_time,\n",
        "        Q\n",
        "    )\n",
        "\n",
        "    # Step 5: Execute processes for the calculated time slice\n",
        "    start_time = current_time # record the start time\n",
        "    current_time += time_slice # advance the system clock\n",
        "    current_process.remaining_time -= time_slice # update remaining time\n",
        "\n",
        "    # update Gantt chart\n",
        "    if not gantt_chart or gantt_chart[-1][0] != current_process.pid:\n",
        "      # start a new entry if different process or first entry\n",
        "      gantt_chart.append([current_process.pid, start_time, current_time])\n",
        "    else:\n",
        "      # update end time of current entry if same process\n",
        "      gantt_chart[-1][2] = current_time\n",
        "\n",
        "    # Step 6: Check if process has completed\n",
        "    if current_process.remaining_time == 0:\n",
        "      # update completion metrics\n",
        "      current_process.completion_time = current_time\n",
        "\n",
        "      # Turnaround time = completion time - arrival\n",
        "      current_process.turnaround_time = (current_process.completion_time -\n",
        "                                         current_process.arrival_time)\n",
        "\n",
        "      # waiting time\n",
        "      current_process.waiting_time = (current_process.turnaround_time -\n",
        "                                      current_process.burst_time)\n",
        "\n",
        "      # terminate the process\n",
        "      # move it from the ready queue to the completed queue\n",
        "      completed_processes.append(current_process)\n",
        "      ready_queue.remove(current_process)\n",
        "\n",
        "  return completed_processes, gantt_chart"
      ]
    },
    {
      "cell_type": "code",
      "execution_count": 423,
      "metadata": {
        "id": "UX1b3StTpwAF"
      },
      "outputs": [],
      "source": [
        "def print_results(completed_processes, gantt_chart):\n",
        "    \"\"\"Print formatted scheduling results and metrics.\"\"\"\n",
        "    # Print Gantt chart showing execution order\n",
        "    print(\"\\nProcess Execution Order (Gantt Chart):\")\n",
        "    print(\"-\" * 50)\n",
        "    for entry in gantt_chart:\n",
        "        if entry[0] == \"IDLE\":\n",
        "            # Show idle time periods\n",
        "            print(f\"IDLE: {entry[1]} -> {entry[2]}\")\n",
        "        else:\n",
        "            # Show process execution periods\n",
        "            print(f\"P{entry[0]}: {entry[1]} -> {entry[2]}\")\n",
        "\n",
        "    # Print detailed process metrics\n",
        "    print(\"\\nProcess Scheduling Details:\")\n",
        "    print(\"-\" * 65)\n",
        "    print(\"PID  Arrival  Burst  Completion  Turnaround  Waiting\")\n",
        "    print(\"-\" * 65)\n",
        "\n",
        "    # Print metrics for each process, sorted by PID\n",
        "    for p in sorted(completed_processes, key=lambda x: x.pid):\n",
        "        print(f\"{p.pid:<5}{p.arrival_time:<9}{p.burst_time:<7}\"\n",
        "              f\"{p.completion_time:<12}{p.turnaround_time:<12}\"\n",
        "              f\"{p.waiting_time}\")\n",
        "\n",
        "    # Calculate and print average metrics\n",
        "    avg_turnaround = sum(p.turnaround_time for p in completed_processes) / len(completed_processes)\n",
        "    avg_waiting = sum(p.waiting_time for p in completed_processes) / len(completed_processes)\n",
        "\n",
        "    print(\"-\" * 65)\n",
        "    print(f\"Average Turnaround Time: {avg_turnaround:.2f}\")\n",
        "    print(f\"Average Waiting Time: {avg_waiting:.2f}\")"
      ]
    },
    {
      "cell_type": "code",
      "execution_count": 424,
      "metadata": {
        "colab": {
          "base_uri": "https://localhost:8080/"
        },
        "id": "BWzzEpoBpxW6",
        "outputId": "66ff9f9e-356f-4935-8ddc-cf3fc2b787c0"
      },
      "outputs": [
        {
          "output_type": "stream",
          "name": "stdout",
          "text": [
            "list empty\n",
            "ready index: 0\n",
            "ready index: 0\n",
            "ready index: 0\n",
            "ready index: 1\n",
            "ready index: 2\n",
            "ready index: 0\n",
            "ready index: 1\n",
            "ready index: 1\n",
            "ready index: 0\n",
            "ready index: 1\n",
            "list empty\n",
            "ready index: 0\n",
            "\n",
            "Process Execution Order (Gantt Chart):\n",
            "--------------------------------------------------\n",
            "P1: 0 -> 2\n",
            "P2: 2 -> 3\n",
            "P3: 3 -> 5\n",
            "P4: 5 -> 7\n",
            "P5: 7 -> 9\n",
            "P3: 9 -> 11\n",
            "P4: 11 -> 13\n",
            "P5: 13 -> 15\n",
            "P3: 15 -> 17\n",
            "P5: 17 -> 18\n",
            "P3: 18 -> 20\n",
            "\n",
            "Process Scheduling Details:\n",
            "-----------------------------------------------------------------\n",
            "PID  Arrival  Burst  Completion  Turnaround  Waiting\n",
            "-----------------------------------------------------------------\n",
            "1    0        2      2           2           0\n",
            "2    1        1      3           2           1\n",
            "3    2        8      20          18          10\n",
            "4    3        4      13          10          6\n",
            "5    4        5      18          14          9\n",
            "-----------------------------------------------------------------\n",
            "Average Turnaround Time: 9.20\n",
            "Average Waiting Time: 5.20\n"
          ]
        }
      ],
      "source": [
        "# process_id, arrival_time, burst_time, priority\n",
        "processes = [[1, 0, 2, 2],\n",
        "             [2, 1, 1, 1],\n",
        "             [3, 2, 8, 4],\n",
        "             [4, 3, 4, 2],\n",
        "             [5, 4, 5, 3]]\n",
        "\n",
        "completed_processes, gantt_chart = shortest_remaining_time(processes)\n",
        "# print(completed_processes# )\n",
        "print_results(completed_processes, gantt_chart)"
      ]
    }
  ],
  "metadata": {
    "colab": {
      "provenance": [],
      "authorship_tag": "ABX9TyPnHuB15rouxZBL+TKWgGjI",
      "include_colab_link": true
    },
    "kernelspec": {
      "display_name": "Python 3",
      "name": "python3"
    },
    "language_info": {
      "name": "python"
    }
  },
  "nbformat": 4,
  "nbformat_minor": 0
}